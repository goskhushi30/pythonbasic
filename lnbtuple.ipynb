{
 "cells": [
  {
   "cell_type": "code",
   "execution_count": 24,
   "id": "86115c7c-e84d-43dc-a7b8-9c4893e34523",
   "metadata": {
    "scrolled": true
   },
   "outputs": [
    {
     "name": "stdin",
     "output_type": "stream",
     "text": [
      "Enter the first integer 10\n",
      "Enter the second integer 20\n"
     ]
    },
    {
     "name": "stdout",
     "output_type": "stream",
     "text": [
      "AND of t1 and t2 in binary is: ('1', '0', '1', '0', '0')\n",
      "OR of t1 and t2 in binary is: ('1', '0', '1', '0')\n",
      "AND of t1 and t2 in decimal is: 20\n",
      "OR of t1 and t2 in decimal is: 10\n"
     ]
    }
   ],
   "source": [
    "n1=int(input(\"Enter the first integer\"))\n",
    "n2=int(input(\"Enter the second integer\"))\n",
    "t1=tuple(bin(n1).replace('0b',''))\n",
    "t2=tuple(bin(n2).replace('0b',''))\n",
    "t3=(t1 and t2)\n",
    "t4=(t1 or t2)\n",
    "print(\"AND of t1 and t2 in binary is:\",t3)\n",
    "print(\"OR of t1 and t2 in binary is:\",t4)\n",
    "\n",
    "str=''\n",
    "print(\"AND of t1 and t2 in decimal is:\",int(str.join(t3),2))\n",
    "print(\"OR of t1 and t2 in decimal is:\",int(str.join(t4),2))\n"
   ]
  }
 ],
 "metadata": {
  "kernelspec": {
   "display_name": "Python 3 (ipykernel)",
   "language": "python",
   "name": "python3"
  },
  "language_info": {
   "codemirror_mode": {
    "name": "ipython",
    "version": 3
   },
   "file_extension": ".py",
   "mimetype": "text/x-python",
   "name": "python",
   "nbconvert_exporter": "python",
   "pygments_lexer": "ipython3",
   "version": "3.12.1"
  }
 },
 "nbformat": 4,
 "nbformat_minor": 5
}
