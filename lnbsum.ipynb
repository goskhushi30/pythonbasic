{
 "cells": [
  {
   "cell_type": "code",
   "execution_count": 17,
   "id": "2899375d-78b9-4fdf-b20f-df2b554e5703",
   "metadata": {},
   "outputs": [
    {
     "name": "stdin",
     "output_type": "stream",
     "text": [
      "Enter the number of input you want to take with user 5\n",
      "Enter the integer: 12\n",
      "Enter the integer: 45\n",
      "Enter the integer: 2\n",
      "Enter the integer: 1\n",
      "Enter the integer: 76\n"
     ]
    },
    {
     "name": "stdout",
     "output_type": "stream",
     "text": [
      "[12, 45, 76]\n",
      "Sum of integers: 133\n"
     ]
    }
   ],
   "source": [
    "n=int(input(\"Enter the number of input you want to take with user\"))\n",
    "l=[]\n",
    "for i in range(n):\n",
    "    a=int(input(\"Enter the integer:\"))\n",
    "    if a<9:\n",
    "        continue\n",
    "    else:\n",
    "        l.append(a)\n",
    "print(l)\n",
    "print(\"Sum of integers:\",sum(l))"
   ]
  }
 ],
 "metadata": {
  "kernelspec": {
   "display_name": "Python 3 (ipykernel)",
   "language": "python",
   "name": "python3"
  },
  "language_info": {
   "codemirror_mode": {
    "name": "ipython",
    "version": 3
   },
   "file_extension": ".py",
   "mimetype": "text/x-python",
   "name": "python",
   "nbconvert_exporter": "python",
   "pygments_lexer": "ipython3",
   "version": "3.12.1"
  }
 },
 "nbformat": 4,
 "nbformat_minor": 5
}
