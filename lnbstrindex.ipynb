{
 "cells": [
  {
   "cell_type": "code",
   "execution_count": 6,
   "id": "32e5183a-7710-4f7b-8def-f98ecf292007",
   "metadata": {},
   "outputs": [
    {
     "name": "stdin",
     "output_type": "stream",
     "text": [
      "Enter the String: KhushiGoswami\n"
     ]
    },
    {
     "name": "stdout",
     "output_type": "stream",
     "text": [
      "KuhGsai\n"
     ]
    }
   ],
   "source": [
    "String=input(\"Enter the String:\")\n",
    "if len(String)>7:\n",
    "    print(String[::2])\n",
    "else:\n",
    "    print(String[1::2])\n",
    "    "
   ]
  }
 ],
 "metadata": {
  "kernelspec": {
   "display_name": "Python 3 (ipykernel)",
   "language": "python",
   "name": "python3"
  },
  "language_info": {
   "codemirror_mode": {
    "name": "ipython",
    "version": 3
   },
   "file_extension": ".py",
   "mimetype": "text/x-python",
   "name": "python",
   "nbconvert_exporter": "python",
   "pygments_lexer": "ipython3",
   "version": "3.12.1"
  }
 },
 "nbformat": 4,
 "nbformat_minor": 5
}
