{
 "cells": [
  {
   "cell_type": "code",
   "execution_count": 9,
   "id": "fff8c85c-17a7-4b63-813c-0c339ff825e1",
   "metadata": {},
   "outputs": [
    {
     "name": "stdout",
     "output_type": "stream",
     "text": [
      "['paragraph', 'defined', 'group', 'sentences', 'single', 'sentence', 'that', 'forms', 'unit', 'Length', 'appearance', 'determine', 'whether', 'section', 'paper', 'paragraph']\n"
     ]
    }
   ],
   "source": [
    "p= '''A paragraph is defined as a group of sentences or a single sentence\n",
    "that forms a unit  Length and appearance do not determine whether a section in a\n",
    "paper is a paragraph'''\n",
    "l=p.split()\n",
    "l1=[]\n",
    "for i in l:\n",
    "    if len(i)>3:\n",
    "         l1.append(i)\n",
    "print(l1)\n"
   ]
  }
 ],
 "metadata": {
  "kernelspec": {
   "display_name": "Python 3 (ipykernel)",
   "language": "python",
   "name": "python3"
  },
  "language_info": {
   "codemirror_mode": {
    "name": "ipython",
    "version": 3
   },
   "file_extension": ".py",
   "mimetype": "text/x-python",
   "name": "python",
   "nbconvert_exporter": "python",
   "pygments_lexer": "ipython3",
   "version": "3.12.1"
  }
 },
 "nbformat": 4,
 "nbformat_minor": 5
}
