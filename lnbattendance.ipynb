{
 "cells": [
  {
   "cell_type": "code",
   "execution_count": 11,
   "id": "433e2f71-c30a-4b90-96e5-ccde2632b281",
   "metadata": {},
   "outputs": [
    {
     "name": "stdout",
     "output_type": "stream",
     "text": [
      "1 7\n"
     ]
    }
   ],
   "source": [
    "e=5\n",
    "w=7\n",
    "data= ['PPPPP', 'PAPPP', 'AAAPP', 'PAPAP', 'AAAAA', 'PAAAP', 'PPPPP']\n",
    "count=0\n",
    "for i in range(len(data)):\n",
    "    if data[i-1]==data[i]:\n",
    "            if 'A' in data[i]:\n",
    "                  continue\n",
    "        \n",
    "            else:\n",
    "                count+=1\n",
    "print(count,w)\n",
    "\n",
    "        "
   ]
  },
  {
   "cell_type": "code",
   "execution_count": null,
   "id": "599864ce-d0dc-4a88-b598-3b863ea8351c",
   "metadata": {},
   "outputs": [],
   "source": []
  }
 ],
 "metadata": {
  "kernelspec": {
   "display_name": "Python 3 (ipykernel)",
   "language": "python",
   "name": "python3"
  },
  "language_info": {
   "codemirror_mode": {
    "name": "ipython",
    "version": 3
   },
   "file_extension": ".py",
   "mimetype": "text/x-python",
   "name": "python",
   "nbconvert_exporter": "python",
   "pygments_lexer": "ipython3",
   "version": "3.12.1"
  }
 },
 "nbformat": 4,
 "nbformat_minor": 5
}
