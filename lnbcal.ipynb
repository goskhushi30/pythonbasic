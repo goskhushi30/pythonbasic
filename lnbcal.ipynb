{
 "cells": [
  {
   "cell_type": "code",
   "execution_count": 8,
   "id": "14de5b19-7156-4f34-86ac-9e440a152482",
   "metadata": {},
   "outputs": [
    {
     "name": "stdin",
     "output_type": "stream",
     "text": [
      "Enter number1: 155\n",
      "Enter number2: 5\n"
     ]
    },
    {
     "name": "stdout",
     "output_type": "stream",
     "text": [
      "775\n",
      "Sum of the numbers is: 160\n"
     ]
    }
   ],
   "source": [
    "num1=int(input(\"Enter number1:\"))\n",
    "num2=int(input(\"Enter number2:\"))\n",
    "product=num1*num2\n",
    "print(product)\n",
    "\n",
    "if product>500:\n",
    "    print(\"Sum of the numbers is:\",num1+num2)\n",
    "else:\n",
    "    print(\"Hello LNB code is running fine !!\")"
   ]
  },
  {
   "cell_type": "code",
   "execution_count": null,
   "id": "bc6c7ea2-4ea9-4c38-9866-3608cd85efa5",
   "metadata": {},
   "outputs": [],
   "source": []
  }
 ],
 "metadata": {
  "kernelspec": {
   "display_name": "Python 3 (ipykernel)",
   "language": "python",
   "name": "python3"
  },
  "language_info": {
   "codemirror_mode": {
    "name": "ipython",
    "version": 3
   },
   "file_extension": ".py",
   "mimetype": "text/x-python",
   "name": "python",
   "nbconvert_exporter": "python",
   "pygments_lexer": "ipython3",
   "version": "3.12.1"
  }
 },
 "nbformat": 4,
 "nbformat_minor": 5
}
